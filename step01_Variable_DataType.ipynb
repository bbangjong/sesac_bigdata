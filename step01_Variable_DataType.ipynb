{
 "cells": [
  {
   "cell_type": "code",
   "execution_count": null,
   "metadata": {},
   "outputs": [],
   "source": [
    "'''\n",
    "2.1 변수와 자료형\n",
    "        자료형 - 문자형(String)\n",
    "                 숫자형 - 정수(int)\n",
    "                        - 실수(Float)\n",
    "                 논리형 - True or False, 1 or 0\n",
    "\n",
    "2.1.1 변수, 메모리 주소, 자료형\n",
    "2.1.2 자료형 변환(Casting)\n",
    "\n",
    "'''"
   ]
  },
  {
   "cell_type": "code",
   "execution_count": 1,
   "metadata": {},
   "outputs": [],
   "source": [
    "# 변수\n",
    "var1 = \"Hello python\"\n",
    "var2 = 100\n",
    "var3 = 150.25\n",
    "var4 = True"
   ]
  },
  {
   "cell_type": "code",
   "execution_count": 3,
   "metadata": {},
   "outputs": [
    {
     "name": "stdout",
     "output_type": "stream",
     "text": [
      "Hello python\n",
      "100\n",
      "150.25\n",
      "True\n"
     ]
    }
   ],
   "source": [
    "print(var1)\n",
    "print(var2)\n",
    "print(var3)\n",
    "print(var4)"
   ]
  },
  {
   "cell_type": "code",
   "execution_count": 1,
   "metadata": {},
   "outputs": [],
   "source": [
    "# 자료형의 종류\n",
    "\n",
    "# -문자형\n",
    "var1 = \"Hello python\"\n",
    "# -숫자형(정수형,실수형)\n",
    "var2 = 100\n",
    "var3 = 150.25\n",
    "# -논리형\n",
    "var4 = True"
   ]
  },
  {
   "cell_type": "code",
   "execution_count": 2,
   "metadata": {},
   "outputs": [
    {
     "name": "stdout",
     "output_type": "stream",
     "text": [
      "Hello python\n",
      "<class 'str'>\n"
     ]
    }
   ],
   "source": [
    "# 자료형-문자형(String)\n",
    "var1 = \"Hello python\"\n",
    "print(var1)\n",
    "print(type(var1))"
   ]
  },
  {
   "cell_type": "code",
   "execution_count": 3,
   "metadata": {},
   "outputs": [
    {
     "name": "stdout",
     "output_type": "stream",
     "text": [
      "100\n",
      "<class 'int'>\n"
     ]
    }
   ],
   "source": [
    "# 자료형-숫자형:정수형(integer)\n",
    "var2 = 100\n",
    "print(var2)\n",
    "print(type(var2))"
   ]
  },
  {
   "cell_type": "code",
   "execution_count": 4,
   "metadata": {},
   "outputs": [
    {
     "name": "stdout",
     "output_type": "stream",
     "text": [
      "150.25\n",
      "<class 'float'>\n"
     ]
    }
   ],
   "source": [
    "# 자료형-숫자형:실수형(float)\n",
    "var3 = 150.25\n",
    "print(var3)\n",
    "print(type(var3))"
   ]
  },
  {
   "cell_type": "code",
   "execution_count": 5,
   "metadata": {},
   "outputs": [
    {
     "name": "stdout",
     "output_type": "stream",
     "text": [
      "True\n",
      "<class 'bool'>\n"
     ]
    }
   ],
   "source": [
    "# 자료형-논리형(boolen)\n",
    "var4 = True\n",
    "print(var4)\n",
    "print(type(var4))"
   ]
  },
  {
   "cell_type": "code",
   "execution_count": 23,
   "metadata": {},
   "outputs": [
    {
     "name": "stdout",
     "output_type": "stream",
     "text": [
      "2763550605168\n",
      "2763486746064\n",
      "2763550538960\n",
      "140708963477608\n"
     ]
    }
   ],
   "source": [
    "# 메모리 주소(Memory Address)\n",
    "print( id(var1) )\n",
    "print( id(var2) )\n",
    "print( id(var3) )\n",
    "print( id(var4) )"
   ]
  },
  {
   "cell_type": "code",
   "execution_count": 34,
   "metadata": {},
   "outputs": [
    {
     "name": "stdout",
     "output_type": "stream",
     "text": [
      "2763565536816\n",
      "2763486749328\n",
      "2763564422800\n",
      "140708963477640\n"
     ]
    }
   ],
   "source": [
    "var1 = \"Good-Bye python\"\n",
    "var2 = 200\n",
    "var3 = 250.25\n",
    "var4 = False\n",
    "\n",
    "# 메모리 주소(Memory Address)\n",
    "print( id(var1) )\n",
    "print( id(var2) )\n",
    "print( id(var3) )\n",
    "print( id(var4) )"
   ]
  },
  {
   "cell_type": "code",
   "execution_count": null,
   "metadata": {},
   "outputs": [],
   "source": [
    "# 2. 자료형 변환(Casting)"
   ]
  },
  {
   "cell_type": "code",
   "execution_count": 5,
   "metadata": {},
   "outputs": [
    {
     "name": "stdout",
     "output_type": "stream",
     "text": [
      "100\n",
      "10\n",
      "<class 'int'>\n",
      "10\n",
      "<class 'str'>\n"
     ]
    }
   ],
   "source": [
    "# 문자형 <-> 정수 형변환\n",
    "\n",
    "# 문자형 -> 정수\n",
    "st = '10'\n",
    "\n",
    "# **은 제곱\n",
    "print( int(st) ** 2  )\n",
    "\n",
    "# 정수 -> 문자형(에러)\n",
    "i = 10\n",
    "st = str(i)\n",
    "print(i)\n",
    "print(type(i))\n",
    "print(st)\n",
    "print(type(st))\n"
   ]
  },
  {
   "cell_type": "code",
   "execution_count": 8,
   "metadata": {},
   "outputs": [
    {
     "name": "stdout",
     "output_type": "stream",
     "text": [
      "10\n",
      "10\n"
     ]
    }
   ],
   "source": [
    "# 정수 -> 문자형(에러)\n",
    "i = 10\n",
    "st = str(i)\n",
    "print(i)\n",
    "print(st)\n",
    "# st 와 i의 타입이다름으로 연산 오류\n",
    "# print( str+2 )\n",
    "# print( str-2 )\n",
    "# print( str*2 )\n",
    "# print( str/2 )"
   ]
  },
  {
   "cell_type": "code",
   "execution_count": 16,
   "metadata": {},
   "outputs": [
    {
     "name": "stdout",
     "output_type": "stream",
     "text": [
      "100.0\n",
      "102.47512899999998\n",
      "10.123\n"
     ]
    }
   ],
   "source": [
    "# 문자형 <-> 실수형 형변환\n",
    "\n",
    "# 문자형 -> 실수형\n",
    "st = '10'\n",
    "print( float(st) ** 2  )\n",
    "\n",
    "# 실수형 -> 문자형\n",
    "st = '10.123'\n",
    "print(float(st) ** 2)\n",
    "print( str(st)  )\n",
    "# print( str(st) ** 2  )"
   ]
  },
  {
   "cell_type": "code",
   "execution_count": 3,
   "metadata": {},
   "outputs": [
    {
     "name": "stdout",
     "output_type": "stream",
     "text": [
      "add2 =  30.0\n",
      "add =  30\n"
     ]
    }
   ],
   "source": [
    "# 정수 <-> 실수 형변환\n",
    "\n",
    "# 정수 -> 실수\n",
    "a = float(10) # 키보드 -> 실수\n",
    "b = float(20) #\n",
    "add2 = a + b\n",
    "print('add2 = ', add2)\n",
    "\n",
    "# 실수 -> 정수\n",
    "# 파이썬은 반올림할떄 짝수는 ? 확인해보자\n",
    "a = int(10.5)\n",
    "b = int(20.42)\n",
    "add = a + b\n",
    "print('add = ', add)"
   ]
  },
  {
   "cell_type": "code",
   "execution_count": 6,
   "metadata": {},
   "outputs": [
    {
     "name": "stdout",
     "output_type": "stream",
     "text": [
      "10\n",
      "10.8 <class 'float'>\n"
     ]
    }
   ],
   "source": [
    "# float함수를 int형으로 변경 시 소수점을 다버린다.\n",
    "float1 = float(10.83)\n",
    "print(int(float1))\n",
    "print(round(float1,1), type(round(float1, 1)))"
   ]
  },
  {
   "cell_type": "code",
   "execution_count": 61,
   "metadata": {},
   "outputs": [
    {
     "name": "stdout",
     "output_type": "stream",
     "text": [
      "1\n",
      "0\n",
      "True\n",
      "False\n"
     ]
    }
   ],
   "source": [
    "# 논리형 형변환\n",
    "\n",
    "# 논리형 -> 정수\n",
    "print(int(True)) # 1\n",
    "print(int(False)) # 0\n",
    "\n",
    "# 정수 -> 논리형\n",
    "print(bool(1)) # True\n",
    "print(bool(0))  # False"
   ]
  }
 ],
 "metadata": {
  "interpreter": {
   "hash": "2ef22a4f970bc5c65101bf0f9deac1122ec7d9bfd8a7e4ddd398822a4274348a"
  },
  "kernelspec": {
   "display_name": "Python 3 (ipykernel)",
   "language": "python",
   "name": "python3"
  },
  "language_info": {
   "codemirror_mode": {
    "name": "ipython",
    "version": 3
   },
   "file_extension": ".py",
   "mimetype": "text/x-python",
   "name": "python",
   "nbconvert_exporter": "python",
   "pygments_lexer": "ipython3",
   "version": "3.9.7"
  }
 },
 "nbformat": 4,
 "nbformat_minor": 2
}
